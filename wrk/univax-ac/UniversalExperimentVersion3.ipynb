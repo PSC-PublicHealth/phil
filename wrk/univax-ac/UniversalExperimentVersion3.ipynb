{
 "cells": [
  {
   "cell_type": "code",
   "execution_count": 1,
   "metadata": {
    "collapsed": true
   },
   "outputs": [],
   "source": [
    "import phil_univax\n",
    "import ast, itertools\n",
    "import numpy as np\n",
    "import concurrent.futures"
   ]
  },
  {
   "cell_type": "code",
   "execution_count": 2,
   "metadata": {
    "collapsed": false
   },
   "outputs": [],
   "source": [
    "opt_params_template = '''\n",
    "{\n",
    "'vaccine_total_avail[%(vaccine_id)d]' : '%(total_doses)d',\n",
    "'vaccine_additional_per_day[%(vaccine_id)d]' : '%(daily_doses)d',                                                                                                      \n",
    "'vaccine_dose_efficacy_values[%(vaccine_id)d][0]' : '1 %(efficacy)f',\n",
    "'vaccine_coverage_age_map_values[%(vaccine_id)d]' : '5 %(coverage)s'\n",
    "}\n",
    "'''"
   ]
  },
  {
   "cell_type": "code",
   "execution_count": 3,
   "metadata": {
    "collapsed": true
   },
   "outputs": [],
   "source": [
    "def parameterize(years, coverage, universal_efficacy, seasonal_efficacy, proportion_universal):\n",
    "    assert(years<=8)\n",
    "    n = 1188112\n",
    "    n_19_50 = 483985\n",
    "    p = dict(days=360*years)\n",
    "    \n",
    "    base_coverage = [0.0795, 0.2806, 0.2204, 0.1907, 0.2289]   \n",
    "    \n",
    "    universal_doses_19_50 = int(n * coverage * base_coverage[2] * proportion_universal)\n",
    "    \n",
    "    p.update(ast.literal_eval(opt_params_template % dict(\n",
    "        vaccine_id=0,\n",
    "        total_doses=universal_doses_19_50,\n",
    "        daily_doses=universal_doses_19_50,\n",
    "        efficacy=universal_efficacy,\n",
    "        coverage='0.0001 0.0001 0.9996 0.0001 0.0001'\n",
    "    )))\n",
    "    \n",
    "    total_doses = n*coverage\n",
    "    baseline_seasonal_doses = [x*total_doses for x in base_coverage]\n",
    "    adjusted_seasonal_doses = baseline_seasonal_doses[:]\n",
    "    adjusted_seasonal_doses[2] = adjusted_seasonal_doses[2] - universal_doses_19_50\n",
    "    seasonal_doses = int(sum(adjusted_seasonal_doses))\n",
    "    seasonal_coverage = [x/seasonal_doses for x in adjusted_seasonal_doses]\n",
    "    \n",
    "    \n",
    "    p.update(ast.literal_eval(opt_params_template % dict(\n",
    "        vaccine_id=1,\n",
    "        total_doses=seasonal_doses,\n",
    "        daily_doses=seasonal_doses,\n",
    "        efficacy=seasonal_efficacy,\n",
    "        coverage=' '.join(['%f'%x for x in seasonal_coverage])\n",
    "    )))\n",
    "    \n",
    "    for vaccine_id in range(2,7):\n",
    "        p.update(ast.literal_eval(opt_params_template % dict(\n",
    "            vaccine_id=vaccine_id,\n",
    "            total_doses=int(n*coverage),\n",
    "            daily_doses=int(n*coverage),\n",
    "            efficacy=seasonal_efficacy,\n",
    "            coverage=' '.join(['%f'%x for x in base_coverage])\n",
    "        )))\n",
    "    return p"
   ]
  },
  {
   "cell_type": "code",
   "execution_count": 4,
   "metadata": {
    "collapsed": false
   },
   "outputs": [],
   "source": [
    "#coverage_values = [0.4,0.5,0.6]\n",
    "#universal_efficacy_values = [0.40]\n",
    "#seasonal_efficacy_values = [0.40, 0.60]\n",
    "#proportion_universal_values = [0.00,0.25,0.50,0.75,1.00]"
   ]
  },
  {
   "cell_type": "code",
   "execution_count": 6,
   "metadata": {
    "collapsed": true
   },
   "outputs": [],
   "source": [
    "coverage_values = [0.4,0.5]\n",
    "universal_efficacy_values = [0.20,0.30,0.40]\n",
    "seasonal_efficacy_values = [0.60]\n",
    "proportion_universal_values = [0.00,0.50,1.00]"
   ]
  },
  {
   "cell_type": "code",
   "execution_count": null,
   "metadata": {
    "collapsed": false
   },
   "outputs": [],
   "source": [
    "reload(phil_univax)\n",
    "pux = phil_univax.PhilUniversalExperiment()\n",
    "    \n",
    "results = {}\n",
    "\n",
    "with concurrent.futures.ThreadPoolExecutor(max_workers=7) as executor:\n",
    "    for i in range(4):\n",
    "        for (coverage, universal_efficacy, seasonal_efficacy, proportion_universal) in itertools.product(\n",
    "                 coverage_values, universal_efficacy_values,\n",
    "                 seasonal_efficacy_values, proportion_universal_values):\n",
    "            opt_params = parameterize(4,\n",
    "                coverage, universal_efficacy, seasonal_efficacy, proportion_universal)\n",
    "            run_name = '%f_%f_%f_%f' % (\n",
    "                coverage, universal_efficacy, seasonal_efficacy, proportion_universal)\n",
    "            results[run_name] = executor.submit(pux.run, 'params.universal', opt_params, run_name)\n",
    "\n",
    "with concurrent.futures.ThreadPoolExecutor(max_workers=7) as executor:\n",
    "    for k,v in results.items():\n",
    "        if v.result() is False:\n",
    "            (coverage, universal_efficacy,\n",
    "             seasonal_efficacy, proportion_universal) = [float(x) for x in k.split('_')]\n",
    "            opt_params = parameterize(4,\n",
    "                coverage, universal_efficacy, seasonal_efficacy, proportion_universal)\n",
    "            run_name = '%f_%f_%f_%f' % (\n",
    "                coverage, universal_efficacy, seasonal_efficacy, proportion_universal)\n",
    "            results[run_name] = executor.submit(pux.run, 'params.universal', opt_params, run_name)            \n"
   ]
  },
  {
   "cell_type": "code",
   "execution_count": 8,
   "metadata": {
    "collapsed": true
   },
   "outputs": [],
   "source": [
    "def split_name(d):\n",
    "    d = d.copy()\n",
    "    d1 = d.name.str.extract(r'/(\\d.+)\\.(\\d+)', expand=True)\n",
    "    d2 = d1[0].str.split('_', expand=True)\n",
    "    d['uid'] = d1[1]\n",
    "    cols = ('coverage', 'universal_efficacy', 'seasonal_efficacy', 'proportion_universal')\n",
    "    for i,c in zip(range(4), cols):\n",
    "        d[c] = d2[i].astype(float)\n",
    "    del d['name']\n",
    "    return d \n",
    "\n",
    "def summarize2(d):\n",
    "\n",
    "    def summarize_by_age(d):\n",
    "        return pd.Series({\n",
    "            'individuals': d.N_p.mean(),\n",
    "            'vaccines': d.V_i.sum(),\n",
    "            'infections': d.IS_i.sum()\n",
    "        })\n",
    "\n",
    "    d1 = split_name(d)\n",
    "    d1['year'] = (d1.day / 360).astype('int')\n",
    "    \n",
    "    d1 = d1.groupby(\n",
    "        ['uid','year', 'age','coverage', 'universal_efficacy', 'seasonal_efficacy', 'proportion_universal']\n",
    "    ).apply(summarize_by_age).reset_index()\n",
    "    \n",
    "#    d1 = d1.groupby(['year', 'age','coverage', 'universal_efficacy',\n",
    "#           'seasonal_efficacy', 'proportion_universal'], as_index=False).mean()\n",
    "    #d1['age_specific_coverage'] = d1['vaccines'] / d1['individuals']\n",
    "    d1['attack_rate'] = d1['infections'] / d1['individuals']\n",
    "    return d1"
   ]
  },
  {
   "cell_type": "code",
   "execution_count": 9,
   "metadata": {
    "collapsed": false
   },
   "outputs": [],
   "source": [
    "import pandas as pd\n",
    "summarize2(pd.read_csv(\n",
    "    'poe_output.csv')).to_csv(\n",
    "    'initial-results.csv', index=False)"
   ]
  },
  {
   "cell_type": "code",
   "execution_count": 10,
   "metadata": {
    "collapsed": false
   },
   "outputs": [
    {
     "name": "stdout",
     "output_type": "stream",
     "text": [
      "uid,year,age,coverage,universal_efficacy,seasonal_efficacy,proportion_universal,individuals,infections,vaccines,attack_rate\r\n",
      "113735888290461303,0,\"[0, 5)\",0.5,0.3,0.6,0.5,63016.0,11674.0,43891.0,0.18525453853\r\n",
      "113735888290461303,0,\"[18, 50)\",0.5,0.3,0.6,0.5,483985.0,22929.0,137664.0,0.0473754351891\r\n",
      "113735888290461303,0,\"[5, 18)\",0.5,0.3,0.6,0.5,185902.0,21056.0,174195.0,0.113263977795\r\n",
      "113735888290461303,0,\"[50, 65)\",0.5,0.3,0.6,0.5,255198.0,14764.0,114204.0,0.0578531179711\r\n",
      "113735888290461303,0,\"[65, 106)\",0.5,0.3,0.6,0.5,200011.0,15209.0,143607.0,0.076040817755\r\n",
      "113735888290461303,1,\"[0, 5)\",0.5,0.3,0.6,0.5,63016.0,6349.0,39427.0,0.10075218992\r\n",
      "113735888290461303,1,\"[18, 50)\",0.5,0.3,0.6,0.5,483985.0,11888.0,137017.0,0.0245627447132\r\n",
      "113735888290461303,1,\"[5, 18)\",0.5,0.3,0.6,0.5,185902.0,8170.0,162975.0,0.0439478865209\r\n",
      "113735888290461303,1,\"[50, 65)\",0.5,0.3,0.6,0.5,255198.0,8251.0,113347.0,0.0323317580859\r\n"
     ]
    }
   ],
   "source": [
    "!head initial-results.csv"
   ]
  },
  {
   "cell_type": "code",
   "execution_count": null,
   "metadata": {
    "collapsed": true
   },
   "outputs": [],
   "source": []
  }
 ],
 "metadata": {
  "kernelspec": {
   "display_name": "phil",
   "language": "python",
   "name": "phil"
  },
  "language_info": {
   "codemirror_mode": {
    "name": "ipython",
    "version": 2
   },
   "file_extension": ".py",
   "mimetype": "text/x-python",
   "name": "python",
   "nbconvert_exporter": "python",
   "pygments_lexer": "ipython2",
   "version": "2.7.13"
  }
 },
 "nbformat": 4,
 "nbformat_minor": 2
}
