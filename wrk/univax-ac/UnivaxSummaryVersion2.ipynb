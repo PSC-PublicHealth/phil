{
 "cells": [
  {
   "cell_type": "code",
   "execution_count": 14,
   "metadata": {
    "collapsed": false
   },
   "outputs": [
    {
     "name": "stdout",
     "output_type": "stream",
     "text": [
      "The rpy2.ipython extension is already loaded. To reload it, use:\n",
      "  %reload_ext rpy2.ipython\n"
     ]
    }
   ],
   "source": [
    "%matplotlib inline\n",
    "%load_ext rpy2.ipython\n",
    "import pandas as pd\n",
    "import ggplot"
   ]
  },
  {
   "cell_type": "code",
   "execution_count": 15,
   "metadata": {
    "collapsed": false,
    "scrolled": false
   },
   "outputs": [],
   "source": [
    "def split_name(d):\n",
    "    d = d.copy()\n",
    "    d1 = d.name.str.extract(r'(\\d.+)\\.(\\d+)', expand=True)\n",
    "    d2 = d1[0].str.split('_', expand=True)\n",
    "    d['uid'] = d1[1]\n",
    "    cols = ('coverage', 'universal_efficacy', 'seasonal_efficacy', 'proportion_universal')\n",
    "    for i,c in zip(range(4), cols):\n",
    "        d[c] = d2[i].astype(float)\n",
    "    del d['name']\n",
    "    return d \n",
    "\n",
    "def summarize(d):\n",
    "    \n",
    "    def summarize_by_age(d):\n",
    "        return pd.Series({\n",
    "            'individuals': d.N_p.mean(),\n",
    "            'vaccines': d.V_i.sum(),\n",
    "            'infections': d.IS_i.sum()\n",
    "        })\n",
    "\n",
    "    d1 = split_name(d)\n",
    "    d1['year'] = (d1.day.astype('float') / 360.0).astype('int')\n",
    "    \n",
    "    return d1"
   ]
  },
  {
   "cell_type": "code",
   "execution_count": 16,
   "metadata": {
    "collapsed": false
   },
   "outputs": [],
   "source": [
    "d = summarize(pd.read_csv('poe_output.csv'))"
   ]
  },
  {
   "cell_type": "code",
   "execution_count": 17,
   "metadata": {
    "collapsed": false
   },
   "outputs": [
    {
     "data": {
      "text/html": [
       "<div>\n",
       "<table border=\"1\" class=\"dataframe\">\n",
       "  <thead>\n",
       "    <tr style=\"text-align: right;\">\n",
       "      <th></th>\n",
       "      <th>age</th>\n",
       "      <th>day</th>\n",
       "      <th>N_i</th>\n",
       "      <th>S_i</th>\n",
       "      <th>S_p</th>\n",
       "      <th>E_i</th>\n",
       "      <th>E_p</th>\n",
       "      <th>I_i</th>\n",
       "      <th>I_p</th>\n",
       "      <th>Y_i</th>\n",
       "      <th>...</th>\n",
       "      <th>IS_p</th>\n",
       "      <th>V_i</th>\n",
       "      <th>V_p</th>\n",
       "      <th>N_p</th>\n",
       "      <th>uid</th>\n",
       "      <th>coverage</th>\n",
       "      <th>universal_efficacy</th>\n",
       "      <th>seasonal_efficacy</th>\n",
       "      <th>proportion_universal</th>\n",
       "      <th>year</th>\n",
       "    </tr>\n",
       "  </thead>\n",
       "  <tbody>\n",
       "    <tr>\n",
       "      <th>0</th>\n",
       "      <td>[65, 106)</td>\n",
       "      <td>999</td>\n",
       "      <td>0</td>\n",
       "      <td>0</td>\n",
       "      <td>199760</td>\n",
       "      <td>0</td>\n",
       "      <td>0</td>\n",
       "      <td>0</td>\n",
       "      <td>0</td>\n",
       "      <td>0</td>\n",
       "      <td>...</td>\n",
       "      <td>0</td>\n",
       "      <td>0</td>\n",
       "      <td>462808</td>\n",
       "      <td>200011</td>\n",
       "      <td>1549524629289121784</td>\n",
       "      <td>0.4</td>\n",
       "      <td>0.3</td>\n",
       "      <td>0.6</td>\n",
       "      <td>1.0</td>\n",
       "      <td>2</td>\n",
       "    </tr>\n",
       "    <tr>\n",
       "      <th>1</th>\n",
       "      <td>[65, 106)</td>\n",
       "      <td>999</td>\n",
       "      <td>0</td>\n",
       "      <td>0</td>\n",
       "      <td>199757</td>\n",
       "      <td>0</td>\n",
       "      <td>0</td>\n",
       "      <td>0</td>\n",
       "      <td>0</td>\n",
       "      <td>0</td>\n",
       "      <td>...</td>\n",
       "      <td>0</td>\n",
       "      <td>0</td>\n",
       "      <td>455602</td>\n",
       "      <td>200011</td>\n",
       "      <td>8050694804863763052</td>\n",
       "      <td>0.4</td>\n",
       "      <td>0.2</td>\n",
       "      <td>0.6</td>\n",
       "      <td>1.0</td>\n",
       "      <td>2</td>\n",
       "    </tr>\n",
       "    <tr>\n",
       "      <th>2</th>\n",
       "      <td>[65, 106)</td>\n",
       "      <td>999</td>\n",
       "      <td>0</td>\n",
       "      <td>0</td>\n",
       "      <td>199747</td>\n",
       "      <td>0</td>\n",
       "      <td>0</td>\n",
       "      <td>0</td>\n",
       "      <td>0</td>\n",
       "      <td>0</td>\n",
       "      <td>...</td>\n",
       "      <td>0</td>\n",
       "      <td>0</td>\n",
       "      <td>402517</td>\n",
       "      <td>200011</td>\n",
       "      <td>3936672713574915758</td>\n",
       "      <td>0.4</td>\n",
       "      <td>0.4</td>\n",
       "      <td>0.6</td>\n",
       "      <td>0.0</td>\n",
       "      <td>2</td>\n",
       "    </tr>\n",
       "    <tr>\n",
       "      <th>3</th>\n",
       "      <td>[65, 106)</td>\n",
       "      <td>999</td>\n",
       "      <td>0</td>\n",
       "      <td>0</td>\n",
       "      <td>199738</td>\n",
       "      <td>0</td>\n",
       "      <td>0</td>\n",
       "      <td>0</td>\n",
       "      <td>0</td>\n",
       "      <td>0</td>\n",
       "      <td>...</td>\n",
       "      <td>0</td>\n",
       "      <td>0</td>\n",
       "      <td>462227</td>\n",
       "      <td>200011</td>\n",
       "      <td>7548959389907938106</td>\n",
       "      <td>0.4</td>\n",
       "      <td>0.4</td>\n",
       "      <td>0.6</td>\n",
       "      <td>1.0</td>\n",
       "      <td>2</td>\n",
       "    </tr>\n",
       "    <tr>\n",
       "      <th>4</th>\n",
       "      <td>[65, 106)</td>\n",
       "      <td>999</td>\n",
       "      <td>0</td>\n",
       "      <td>0</td>\n",
       "      <td>199728</td>\n",
       "      <td>0</td>\n",
       "      <td>0</td>\n",
       "      <td>0</td>\n",
       "      <td>0</td>\n",
       "      <td>0</td>\n",
       "      <td>...</td>\n",
       "      <td>0</td>\n",
       "      <td>0</td>\n",
       "      <td>450574</td>\n",
       "      <td>200011</td>\n",
       "      <td>1942978657812566109</td>\n",
       "      <td>0.4</td>\n",
       "      <td>0.2</td>\n",
       "      <td>0.6</td>\n",
       "      <td>1.0</td>\n",
       "      <td>2</td>\n",
       "    </tr>\n",
       "  </tbody>\n",
       "</table>\n",
       "<p>5 rows × 24 columns</p>\n",
       "</div>"
      ],
      "text/plain": [
       "         age  day  N_i  S_i     S_p  E_i  E_p  I_i  I_p  Y_i  ...   IS_p  V_i  \\\n",
       "0  [65, 106)  999    0    0  199760    0    0    0    0    0  ...      0    0   \n",
       "1  [65, 106)  999    0    0  199757    0    0    0    0    0  ...      0    0   \n",
       "2  [65, 106)  999    0    0  199747    0    0    0    0    0  ...      0    0   \n",
       "3  [65, 106)  999    0    0  199738    0    0    0    0    0  ...      0    0   \n",
       "4  [65, 106)  999    0    0  199728    0    0    0    0    0  ...      0    0   \n",
       "\n",
       "      V_p     N_p                  uid  coverage  universal_efficacy  \\\n",
       "0  462808  200011  1549524629289121784       0.4                 0.3   \n",
       "1  455602  200011  8050694804863763052       0.4                 0.2   \n",
       "2  402517  200011  3936672713574915758       0.4                 0.4   \n",
       "3  462227  200011  7548959389907938106       0.4                 0.4   \n",
       "4  450574  200011  1942978657812566109       0.4                 0.2   \n",
       "\n",
       "   seasonal_efficacy proportion_universal  year  \n",
       "0                0.6                  1.0     2  \n",
       "1                0.6                  1.0     2  \n",
       "2                0.6                  0.0     2  \n",
       "3                0.6                  1.0     2  \n",
       "4                0.6                  1.0     2  \n",
       "\n",
       "[5 rows x 24 columns]"
      ]
     },
     "execution_count": 17,
     "metadata": {},
     "output_type": "execute_result"
    }
   ],
   "source": [
    "d.head()"
   ]
  },
  {
   "cell_type": "code",
   "execution_count": 18,
   "metadata": {
    "collapsed": true
   },
   "outputs": [],
   "source": [
    "d.to_csv('initial_results.csv',index=False)"
   ]
  },
  {
   "cell_type": "code",
   "execution_count": null,
   "metadata": {
    "collapsed": true
   },
   "outputs": [],
   "source": []
  },
  {
   "cell_type": "code",
   "execution_count": null,
   "metadata": {
    "collapsed": true
   },
   "outputs": [],
   "source": []
  }
 ],
 "metadata": {
  "kernelspec": {
   "display_name": "phil",
   "language": "python",
   "name": "phil"
  },
  "language_info": {
   "codemirror_mode": {
    "name": "ipython",
    "version": 2
   },
   "file_extension": ".py",
   "mimetype": "text/x-python",
   "name": "python",
   "nbconvert_exporter": "python",
   "pygments_lexer": "ipython2",
   "version": "2.7.13"
  }
 },
 "nbformat": 4,
 "nbformat_minor": 2
}
